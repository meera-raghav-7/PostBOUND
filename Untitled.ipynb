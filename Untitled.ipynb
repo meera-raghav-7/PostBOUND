{
 "cells": [
  {
   "cell_type": "code",
   "execution_count": 2,
   "id": "acaf6cdf",
   "metadata": {},
   "outputs": [
    {
     "name": "stdout",
     "output_type": "stream",
     "text": [
      "C:\\Users\\meera\\dummy\\PostBOUND\\postbound\\postbound\\tests\n"
     ]
    }
   ],
   "source": [
    "%cd C:/Users/meera/dummy/PostBOUND/postbound/postbound/tests\n"
   ]
  },
  {
   "cell_type": "code",
   "execution_count": null,
   "id": "47a46e30",
   "metadata": {},
   "outputs": [],
   "source": []
  },
  {
   "cell_type": "code",
   "execution_count": 3,
   "id": "1bca3b0d",
   "metadata": {},
   "outputs": [
    {
     "name": "stdout",
     "output_type": "stream",
     "text": [
      "Requirement already satisfied: pytest in c:\\users\\meera\\anaconda3\\lib\\site-packages (7.1.1)\n",
      "Requirement already satisfied: attrs>=19.2.0 in c:\\users\\meera\\anaconda3\\lib\\site-packages (from pytest) (21.4.0)\n",
      "Requirement already satisfied: iniconfig in c:\\users\\meera\\anaconda3\\lib\\site-packages (from pytest) (1.1.1)\n",
      "Requirement already satisfied: packaging in c:\\users\\meera\\anaconda3\\lib\\site-packages (from pytest) (21.3)\n",
      "Requirement already satisfied: pluggy<2.0,>=0.12 in c:\\users\\meera\\anaconda3\\lib\\site-packages (from pytest) (1.0.0)\n",
      "Requirement already satisfied: py>=1.8.2 in c:\\users\\meera\\anaconda3\\lib\\site-packages (from pytest) (1.11.0)\n",
      "Requirement already satisfied: tomli>=1.0.0 in c:\\users\\meera\\anaconda3\\lib\\site-packages (from pytest) (1.2.2)\n",
      "Requirement already satisfied: atomicwrites>=1.0 in c:\\users\\meera\\anaconda3\\lib\\site-packages (from pytest) (1.4.0)\n",
      "Requirement already satisfied: colorama in c:\\users\\meera\\anaconda3\\lib\\site-packages (from pytest) (0.4.4)\n",
      "Requirement already satisfied: pyparsing!=3.0.5,>=2.0.2 in c:\\users\\meera\\anaconda3\\lib\\site-packages (from packaging->pytest) (3.0.4)\n"
     ]
    }
   ],
   "source": [
    "!pip install pytest\n"
   ]
  },
  {
   "cell_type": "code",
   "execution_count": 4,
   "id": "dc54e8c2",
   "metadata": {},
   "outputs": [
    {
     "name": "stdout",
     "output_type": "stream",
     "text": [
      "============================= test session starts =============================\n",
      "platform win32 -- Python 3.9.12, pytest-7.1.1, pluggy-1.0.0\n",
      "rootdir: C:\\Users\\meera\\dummy\\PostBOUND\\postbound\\postbound\\tests\n",
      "plugins: anyio-3.5.0\n",
      "collected 0 items / 1 error\n",
      "\n",
      "=================================== ERRORS ====================================\n",
      "________________________ ERROR collecting test_qal.py _________________________\n",
      "ImportError while importing test module 'C:\\Users\\meera\\dummy\\PostBOUND\\postbound\\postbound\\tests\\test_qal.py'.\n",
      "Hint: make sure your test modules/packages have valid Python names.\n",
      "Traceback:\n",
      "C:\\Users\\meera\\anaconda3\\lib\\importlib\\__init__.py:127: in import_module\n",
      "    return _bootstrap._gcd_import(name[level:], package, level)\n",
      "test_qal.py:12: in <module>\n",
      "    from postbound.qal import parser\n",
      "..\\qal\\parser.py:7: in <module>\n",
      "    import mo_sql_parsing as mosp\n",
      "E   ModuleNotFoundError: No module named 'mo_sql_parsing'\n",
      "=========================== short test summary info ===========================\n",
      "ERROR test_qal.py\n",
      "!!!!!!!!!!!!!!!!!!! Interrupted: 1 error during collection !!!!!!!!!!!!!!!!!!!!\n",
      "============================== 1 error in 1.18s ===============================\n"
     ]
    }
   ],
   "source": [
    "!pytest test_qal.py"
   ]
  },
  {
   "cell_type": "code",
   "execution_count": 5,
   "id": "2b703522",
   "metadata": {},
   "outputs": [
    {
     "name": "stdout",
     "output_type": "stream",
     "text": [
      "Collecting mo-sql-parsing\n",
      "  Using cached mo_sql_parsing-9.357.23070-py2.py3-none-any.whl (38 kB)\n",
      "Collecting mo-imports==7.341.23006\n",
      "  Using cached mo_imports-7.341.23006-py2.py3-none-any.whl (11 kB)\n",
      "Collecting mo-future==7.340.23006\n",
      "  Using cached mo_future-7.340.23006-py2.py3-none-any.whl (10 kB)\n",
      "Collecting mo-dots==9.356.23062\n",
      "  Using cached mo_dots-9.356.23062-py2.py3-none-any.whl (25 kB)\n",
      "Collecting mo-parsing==8.356.23062\n",
      "  Using cached mo_parsing-8.356.23062-py2.py3-none-any.whl (62 kB)\n",
      "Installing collected packages: mo-future, mo-imports, mo-dots, mo-parsing, mo-sql-parsing\n",
      "Successfully installed mo-dots-9.356.23062 mo-future-7.340.23006 mo-imports-7.341.23006 mo-parsing-8.356.23062 mo-sql-parsing-9.357.23070\n"
     ]
    }
   ],
   "source": [
    "!pip install mo-sql-parsing\n"
   ]
  },
  {
   "cell_type": "code",
   "execution_count": 6,
   "id": "58f362c6",
   "metadata": {},
   "outputs": [
    {
     "name": "stdout",
     "output_type": "stream",
     "text": [
      "============================= test session starts =============================\n",
      "platform win32 -- Python 3.9.12, pytest-7.1.1, pluggy-1.0.0\n",
      "rootdir: C:\\Users\\meera\\dummy\\PostBOUND\\postbound\\postbound\\tests\n",
      "plugins: anyio-3.5.0\n",
      "collected 0 items / 1 error\n",
      "\n",
      "=================================== ERRORS ====================================\n",
      "________________________ ERROR collecting test_qal.py _________________________\n",
      "test_qal.py:12: in <module>\n",
      "    from postbound.qal import parser\n",
      "..\\qal\\parser.py:9: in <module>\n",
      "    from postbound.qal import base, qal, clauses, expressions as expr, joins, predicates as preds\n",
      "..\\qal\\qal.py:14: in <module>\n",
      "    from postbound.qal import base, clauses, joins, expressions as expr, predicates as preds\n",
      "..\\qal\\clauses.py:11: in <module>\n",
      "    from postbound.qal import base, expressions as expr, joins, predicates as preds\n",
      "..\\qal\\expressions.py:52: in <module>\n",
      "    SqlOperator = typing.Type[MathematicalSqlOperators | LogicalSqlOperators | LogicalSqlCompoundOperators]\n",
      "E   TypeError: unsupported operand type(s) for |: 'EnumMeta' and 'EnumMeta'\n",
      "=========================== short test summary info ===========================\n",
      "ERROR test_qal.py - TypeError: unsupported operand type(s) for |: 'EnumMeta' ...\n",
      "!!!!!!!!!!!!!!!!!!! Interrupted: 1 error during collection !!!!!!!!!!!!!!!!!!!!\n",
      "============================== 1 error in 1.51s ===============================\n"
     ]
    }
   ],
   "source": [
    "!pytest test_qal.py"
   ]
  },
  {
   "cell_type": "code",
   "execution_count": 7,
   "id": "4f73b4a0",
   "metadata": {},
   "outputs": [
    {
     "name": "stdout",
     "output_type": "stream",
     "text": [
      "3.9.12 (main, Apr  4 2022, 05:22:27) [MSC v.1916 64 bit (AMD64)]\n"
     ]
    }
   ],
   "source": [
    "import sys\n",
    "print(sys.version)\n"
   ]
  },
  {
   "cell_type": "code",
   "execution_count": 8,
   "id": "e120bdbe",
   "metadata": {},
   "outputs": [
    {
     "name": "stdout",
     "output_type": "stream",
     "text": [
      "Note: you may need to restart the kernel to use updated packages.\n"
     ]
    },
    {
     "name": "stderr",
     "output_type": "stream",
     "text": [
      "ERROR: Could not find a version that satisfies the requirement python (from versions: none)\n",
      "ERROR: No matching distribution found for python\n"
     ]
    }
   ],
   "source": [
    "pip install --upgrade python\n"
   ]
  },
  {
   "cell_type": "code",
   "execution_count": 1,
   "id": "f986ae24",
   "metadata": {},
   "outputs": [
    {
     "name": "stdout",
     "output_type": "stream",
     "text": [
      "Note: you may need to restart the kernel to use updated packages.\n"
     ]
    },
    {
     "name": "stderr",
     "output_type": "stream",
     "text": [
      "ERROR: Could not find a version that satisfies the requirement python (from versions: none)\n",
      "ERROR: No matching distribution found for python\n"
     ]
    }
   ],
   "source": [
    "pip install --upgrade python\n"
   ]
  },
  {
   "cell_type": "code",
   "execution_count": null,
   "id": "eaa988ab",
   "metadata": {},
   "outputs": [],
   "source": []
  }
 ],
 "metadata": {
  "kernelspec": {
   "display_name": "Python 3 (ipykernel)",
   "language": "python",
   "name": "python3"
  },
  "language_info": {
   "codemirror_mode": {
    "name": "ipython",
    "version": 3
   },
   "file_extension": ".py",
   "mimetype": "text/x-python",
   "name": "python",
   "nbconvert_exporter": "python",
   "pygments_lexer": "ipython3",
   "version": "3.9.12"
  }
 },
 "nbformat": 4,
 "nbformat_minor": 5
}
