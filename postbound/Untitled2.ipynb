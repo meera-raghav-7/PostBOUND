{
 "cells": [
  {
   "cell_type": "code",
   "execution_count": 1,
   "id": "26165616",
   "metadata": {},
   "outputs": [
    {
     "name": "stdout",
     "output_type": "stream",
     "text": [
      "SET optimizer_switch='block_nested_loop=on';\n",
      "SELECT /*+\n",
      "  STRAIGHT_JOIN((mi ky))\n",
      "  INDEX_SCAN(mi)\n",
      "  \n",
      "  BNL(mi, ky)\n",
      "  MERGE(ky, mc)\n",
      "  JOIN_ORDER(mi, ky, mc)\n",
      "*/ mi.id FROM movie_info AS mi, keyword AS ky, movie_companies AS mc WHERE mi.id = ky.id AND ky.id = mc.id LIMIT 10;\n",
      "[1, 2, 3, 4, 5, 6, 7, 8, 9, 10]\n"
     ]
    }
   ],
   "source": [
    "from postbound.db import db, mysql\n",
    "from postbound.qal import qal, base, clauses, transform, formatter, predicates, expressions\n",
    "from postbound.optimizer import jointree\n",
    "from postbound.optimizer.physops import operators as physops\n",
    "from postbound.optimizer.planmeta import hints as planmeta\n",
    "conn_string = {\n",
    "    \"host\": \"127.0.0.1\",\n",
    "    \"user\": \"root\",\n",
    "    \"password\": \"1234\",\n",
    "    \"database\": \"imdbload\"}\n",
    "mysql_db = mysql.connect(connection_args=mysql.MysqlConnectionArguments(**conn_string))\n",
    "hint_service = mysql_db.hinting()\n",
    "table1 = base.TableReference(full_name=\"movie_info\", alias=\"mi\")\n",
    "table2 = base.TableReference(\"keyword\", alias=\"ky\")\n",
    "table3 = base.TableReference(\"movie_companies\", alias=\"mc\")\n",
    "table = [table1,table2,table3]\n",
    "index_list = [\"idx_id\", \"idx_t1\"]\n",
    "assignment  = physops.PhysicalOperatorAssignment()\n",
    "plan = planmeta.PlanParameterization()\n",
    "plan_parameter2 = plan.add_join_order_hint(tables=table)\n",
    "join_operator1 = physops.JoinOperatorAssignment(join=[table1,table2], operator=physops.JoinOperators.BlockNestedLoopJoin)\n",
    "scan_operator = physops.ScanOperatorAssignment(\n",
    "    operator=physops.ScanOperators.IndexScan,\n",
    "    table=table1\n",
    ")\n",
    "join_operator2 = physops.JoinOperatorAssignment(\n",
    "    operator=physops.JoinOperators.MergeJoin,\n",
    "    join=[table2, table3]\n",
    ")\n",
    "join_operators = {\n",
    "    frozenset(join_operator1.join): join_operator1,\n",
    "    frozenset(join_operator2.join): join_operator2,\n",
    "}\n",
    "for join, join_operator in join_operators.items():\n",
    "    assignment.set_join_operator(join_operator)\n",
    "# Set the scan operator in the PhysicalOperatorAssignment\n",
    "assignment.set_scan_operator(scan_operator)\n",
    "\n",
    "\n",
    "assignment.set_operator_enabled_globally(operator=physops.JoinOperators.BlockNestedLoopJoin, enabled=True)\n",
    "tree1 = jointree.PhysicalQueryPlan.for_base_table(table=base.TableReference(full_name=\"movie_info\", alias=\"mi\"),base_annotation=jointree.PhysicalBaseTableMetadata(filter_predicate=predicates.BinaryPredicate(\n",
    "    operation=expressions.LogicalSqlOperators.Equal,\n",
    "    first_argument=base.ColumnReference(name=\"id\",table=base.TableReference(full_name=\"movie_info\", alias=\"mi\")),second_argument=42),cardinality=1000))\n",
    "tree2 = jointree.PhysicalQueryPlan.for_base_table(table= base.TableReference(\"keyword\", alias=\"ky\"),base_annotation=jointree.PhysicalBaseTableMetadata(filter_predicate=predicates.BinaryPredicate(\n",
    "    operation=expressions.LogicalSqlOperators.Equal,\n",
    "    first_argument=base.ColumnReference(name=\"id\",table=base.TableReference(full_name=\"keyword\", alias=\"ky\")),second_argument=100),cardinality=100))\n",
    "tree3 = jointree.PhysicalQueryPlan.for_base_table(table=base.TableReference(\"movie_companies\", alias=\"mc\"),base_annotation=jointree.PhysicalBaseTableMetadata(filter_predicate=predicates.BinaryPredicate(\n",
    "    operation=expressions.LogicalSqlOperators.Equal,\n",
    "    first_argument=base.ColumnReference(name=\"id\",table=base.TableReference(full_name=\"movie_companies\", alias=\"mc\")),second_argument=1040),cardinality=4000))\n",
    "trees = [tree1,tree2,tree3]\n",
    "join_sequence = [table1,table2]\n",
    "nested_sequence2 = [join_sequence, table1, table2]\n",
    "join_tree = jointree.PhysicalQueryPlan.joining(left_tree=tree1,right_tree=tree2)\n",
    "\n",
    "explain_clause = clauses.Explain.explain_analyze()\n",
    "select_clause = clauses.Select(targets=[clauses.BaseProjection.column(base.ColumnReference(name=\"id\",table=base.TableReference(full_name=\"movie_info\", alias=\"mi\")))])\n",
    "from_clause = clauses.ImplicitFromClause(tables=table)\n",
    "predicate1 = predicates.BinaryPredicate(operation=expressions.LogicalSqlOperators.Equal,first_argument=base.ColumnReference(name=\"id\",table=base.TableReference(full_name=\"movie_info\", alias=\"mi\")),second_argument=base.ColumnReference(name=\"id\",table=base.TableReference(full_name=\"keyword\", alias=\"ky\")))\n",
    "predicate2 = predicates.BinaryPredicate(operation=expressions.LogicalSqlOperators.Equal,first_argument=base.ColumnReference(name=\"id\",table=base.TableReference(full_name=\"keyword\", alias=\"ky\")),second_argument=base.ColumnReference(name=\"id\",table=base.TableReference(full_name=\"movie_companies\", alias=\"mc\")))\n",
    "operation = expressions.LogicalSqlCompoundOperators.And\n",
    "where_clause = clauses.Where(predicates.BinaryPredicate(operation=operation,first_argument=predicate1,second_argument=predicate2))\n",
    "limit_clause = clauses.Limit(limit=10)\n",
    "query = qal.ImplicitSqlQuery(select_clause=select_clause,from_clause=from_clause,where_clause=where_clause,limit_clause=limit_clause)\n",
    "results = hint_service.generate_hints(query=query,join_order=join_tree,physical_operators=assignment,plan_parameters=plan)\n",
    "print(results)\n",
    "final = mysql_db.execute_query(query=results)\n",
    "print(final)\n"
   ]
  },
  {
   "cell_type": "code",
   "execution_count": null,
   "id": "904c40b6",
   "metadata": {},
   "outputs": [],
   "source": []
  }
 ],
 "metadata": {
  "kernelspec": {
   "display_name": "Python 3 (ipykernel)",
   "language": "python",
   "name": "python3"
  },
  "language_info": {
   "codemirror_mode": {
    "name": "ipython",
    "version": 3
   },
   "file_extension": ".py",
   "mimetype": "text/x-python",
   "name": "python",
   "nbconvert_exporter": "python",
   "pygments_lexer": "ipython3",
   "version": "3.11.1"
  }
 },
 "nbformat": 4,
 "nbformat_minor": 5
}
