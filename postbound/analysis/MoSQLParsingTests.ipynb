{
 "cells": [
  {
   "cell_type": "markdown",
   "id": "16bb08df-5a14-46b5-887a-486decb6f35c",
   "metadata": {},
   "source": [
    "# More SQL parsing"
   ]
  },
  {
   "cell_type": "code",
   "execution_count": 1,
   "id": "721fedb2-52d8-4860-a409-d558e94005e5",
   "metadata": {},
   "outputs": [],
   "source": [
    "%load_ext autoreload\n",
    "%autoreload 2"
   ]
  },
  {
   "cell_type": "code",
   "execution_count": 2,
   "id": "6d243498-8a2d-48a2-bc99-f0d5e9ad9e78",
   "metadata": {},
   "outputs": [],
   "source": [
    "import mo_sql_parsing as mosp"
   ]
  },
  {
   "cell_type": "markdown",
   "id": "6bb55990-676f-49a9-ae90-6676d2f4ce16",
   "metadata": {},
   "source": [
    "## SELECT"
   ]
  },
  {
   "cell_type": "code",
   "execution_count": 3,
   "id": "a59d0aa6-1d69-48c2-b48c-db0fe87128d3",
   "metadata": {},
   "outputs": [
    {
     "data": {
      "text/plain": "{'select': {'value': 'id', 'name': 'i'}, 'from': 'foo'}"
     },
     "execution_count": 3,
     "metadata": {},
     "output_type": "execute_result"
    }
   ],
   "source": [
    "mosp.parse(\"SELECT id AS i FROM foo\")"
   ]
  },
  {
   "cell_type": "code",
   "execution_count": 4,
   "id": "01165700-965a-418d-8e15-68c651f0b9dc",
   "metadata": {},
   "outputs": [
    {
     "data": {
      "text/plain": "{'select': [{'value': 'id', 'name': 'i'}, {'value': 'key', 'name': 'k'}],\n 'from': 'foo'}"
     },
     "execution_count": 4,
     "metadata": {},
     "output_type": "execute_result"
    }
   ],
   "source": [
    "mosp.parse(\"SELECT id AS i, key AS k FROM foo\")"
   ]
  },
  {
   "cell_type": "code",
   "execution_count": 5,
   "id": "ca1383de-db69-48c1-84ca-b0954fb090b2",
   "metadata": {},
   "outputs": [
    {
     "data": {
      "text/plain": "{'select': {'value': {'min': 'id'}}, 'from': 'foo'}"
     },
     "execution_count": 5,
     "metadata": {},
     "output_type": "execute_result"
    }
   ],
   "source": [
    "mosp.parse(\"SELECT MIN(id) FROM foo\")"
   ]
  },
  {
   "cell_type": "code",
   "execution_count": 6,
   "id": "7aa870ce-bb59-4d58-b00c-0c08f25124f1",
   "metadata": {},
   "outputs": [
    {
     "data": {
      "text/plain": "{'select': {'value': {'add': ['id',\n    {'select': {'value': {'min': 'id'}}, 'from': 'foo'}]}},\n 'from': 'foo'}"
     },
     "execution_count": 6,
     "metadata": {},
     "output_type": "execute_result"
    }
   ],
   "source": [
    "mosp.parse(\"SELECT id + (SELECT MIN(id) FROM foo) FROM foo\")"
   ]
  },
  {
   "cell_type": "code",
   "execution_count": 7,
   "id": "4c031ec3-853e-4138-affa-1a910f02c41a",
   "metadata": {},
   "outputs": [
    {
     "data": {
      "text/plain": "{'select_distinct': {'value': 'id'}, 'from': 'foo'}"
     },
     "execution_count": 7,
     "metadata": {},
     "output_type": "execute_result"
    }
   ],
   "source": [
    "mosp.parse(\"SELECT DISTINCT id FROM foo\")"
   ]
  },
  {
   "cell_type": "code",
   "execution_count": 8,
   "id": "800f48d1-c393-48e9-a699-7b319704987a",
   "metadata": {},
   "outputs": [
    {
     "data": {
      "text/plain": "{'select': {'value': {'min': 'id'}, 'name': 'm'}, 'from': 'foo'}"
     },
     "execution_count": 8,
     "metadata": {},
     "output_type": "execute_result"
    }
   ],
   "source": [
    "mosp.parse(\"SELECT MIN(id) AS m FROM foo\")"
   ]
  },
  {
   "cell_type": "code",
   "execution_count": 9,
   "outputs": [
    {
     "data": {
      "text/plain": "{'select': [{'value': {'distinct': True, 'count': 'id'}},\n  {'value': {'min': 'id'}}],\n 'from': 'foo'}"
     },
     "execution_count": 9,
     "metadata": {},
     "output_type": "execute_result"
    }
   ],
   "source": [
    "mosp.parse(\"SELECT COUNT(DISTINCT id), MIN(id) FROM foo\")"
   ],
   "metadata": {
    "collapsed": false
   }
  },
  {
   "cell_type": "markdown",
   "id": "35816981-f8a1-4e21-b9ec-d7ebdb43ae90",
   "metadata": {},
   "source": [
    "## Basic predicates"
   ]
  },
  {
   "cell_type": "code",
   "execution_count": 10,
   "id": "c52838d4-58b9-4e92-8fd7-05f138a0b13b",
   "metadata": {},
   "outputs": [
    {
     "data": {
      "text/plain": "{'select': '*', 'from': ['foo', 'bar'], 'where': {'eq': ['id', 'fkey']}}"
     },
     "execution_count": 10,
     "metadata": {},
     "output_type": "execute_result"
    }
   ],
   "source": [
    "mosp.parse(\"SELECT * FROM foo, bar WHERE id = fkey\")"
   ]
  },
  {
   "cell_type": "code",
   "execution_count": 11,
   "id": "4e81363a-0b1b-4682-be07-5b44e59e1bf3",
   "metadata": {},
   "outputs": [
    {
     "data": {
      "text/plain": "{'select': '*', 'from': ['foo', 'bar'], 'where': {'neq': ['id', 'fkey']}}"
     },
     "execution_count": 11,
     "metadata": {},
     "output_type": "execute_result"
    }
   ],
   "source": [
    "mosp.parse(\"SELECT * FROM foo, bar WHERE id != fkey\")"
   ]
  },
  {
   "cell_type": "code",
   "execution_count": 12,
   "id": "ba5ae171-53cc-4f36-b6c9-a697fb0bfe5d",
   "metadata": {},
   "outputs": [
    {
     "data": {
      "text/plain": "{'select': '*', 'from': 'foo', 'where': {'eq': ['id', {'literal': 'bar'}]}}"
     },
     "execution_count": 12,
     "metadata": {},
     "output_type": "execute_result"
    }
   ],
   "source": [
    "mosp.parse(\"SELECT * FROM foo WHERE id = 'bar'\")"
   ]
  },
  {
   "cell_type": "code",
   "execution_count": 13,
   "id": "6c99c3da-06b9-41b7-84ee-a33038fb54d8",
   "metadata": {},
   "outputs": [
    {
     "data": {
      "text/plain": "{'select': '*', 'from': 'foo', 'where': {'like': ['id', {'literal': 'bar'}]}}"
     },
     "execution_count": 13,
     "metadata": {},
     "output_type": "execute_result"
    }
   ],
   "source": [
    "mosp.parse(\"SELECT * FROM foo WHERE id LIKE 'bar'\")"
   ]
  },
  {
   "cell_type": "code",
   "execution_count": 14,
   "id": "87560a79-22f7-4715-96c5-1a2f589a3228",
   "metadata": {},
   "outputs": [
    {
     "data": {
      "text/plain": "{'select': '*',\n 'from': 'foo',\n 'where': {'not_like': ['id', {'literal': 'bar'}]}}"
     },
     "execution_count": 14,
     "metadata": {},
     "output_type": "execute_result"
    }
   ],
   "source": [
    "mosp.parse(\"SELECT * FROM foo WHERE id NOT LIKE 'bar'\")"
   ]
  },
  {
   "cell_type": "code",
   "execution_count": 15,
   "id": "5ddafa49-76a0-459a-9900-f31525138aed",
   "metadata": {},
   "outputs": [
    {
     "data": {
      "text/plain": "{'select': '*',\n 'from': 'foo',\n 'where': {'lt': ['id', {'literal': '1990-01-10'}]}}"
     },
     "execution_count": 15,
     "metadata": {},
     "output_type": "execute_result"
    }
   ],
   "source": [
    "mosp.parse(\"SELECT * FROM foo WHERE id < '1990-01-10'\")"
   ]
  },
  {
   "cell_type": "code",
   "execution_count": 16,
   "id": "5d9759ae-efa9-4d45-8ce6-531b67837b50",
   "metadata": {},
   "outputs": [
    {
     "data": {
      "text/plain": "{'select': '*', 'from': 'foo', 'where': {'eq': ['id', 42]}}"
     },
     "execution_count": 16,
     "metadata": {},
     "output_type": "execute_result"
    }
   ],
   "source": [
    "mosp.parse(\"SELECT * FROM foo WHERE id = 42\")"
   ]
  },
  {
   "cell_type": "markdown",
   "id": "c0bdd23c-1741-489f-855a-72ccb1ed1ade",
   "metadata": {},
   "source": [
    "## Compound predicates"
   ]
  },
  {
   "cell_type": "code",
   "execution_count": 17,
   "id": "cc30ff21-b96b-44c9-af61-bfd4f61267b8",
   "metadata": {},
   "outputs": [
    {
     "data": {
      "text/plain": "{'select': '*',\n 'from': 'foo',\n 'where': {'and': [{'eq': ['id', 42]}, {'eq': ['key', {'literal': 'bar'}]}]}}"
     },
     "execution_count": 17,
     "metadata": {},
     "output_type": "execute_result"
    }
   ],
   "source": [
    "mosp.parse(\"SELECT * FROM foo WHERE id = 42 AND key = 'bar'\")"
   ]
  },
  {
   "cell_type": "code",
   "execution_count": 18,
   "id": "67ffe1b1-0d45-4821-823a-19b945fc884c",
   "metadata": {},
   "outputs": [
    {
     "data": {
      "text/plain": "{'select': '*',\n 'from': 'foo',\n 'where': {'or': [{'eq': ['id', 42]}, {'eq': ['key', {'literal': 'bar'}]}]}}"
     },
     "execution_count": 18,
     "metadata": {},
     "output_type": "execute_result"
    }
   ],
   "source": [
    "mosp.parse(\"SELECT * FROM foo WHERE id = 42 OR key = 'bar'\")"
   ]
  },
  {
   "cell_type": "code",
   "execution_count": 19,
   "id": "65e76ff1-4b43-42e6-aa0c-a5ffd9d55de0",
   "metadata": {},
   "outputs": [
    {
     "data": {
      "text/plain": "{'select': '*',\n 'from': 'foo',\n 'where': {'and': [{'eq': ['id', 42]},\n   {'or': [{'eq': ['key', {'literal': 'bar'}]},\n     {'eq': ['key', {'literal': 'baz'}]}]}]}}"
     },
     "execution_count": 19,
     "metadata": {},
     "output_type": "execute_result"
    }
   ],
   "source": [
    "mosp.parse(\"SELECT * FROM foo WHERE id = 42 AND (key = 'bar' OR key = 'baz')\")"
   ]
  },
  {
   "cell_type": "code",
   "execution_count": 20,
   "id": "8d220b08-3972-4dcf-aac3-9852f6031030",
   "metadata": {},
   "outputs": [
    {
     "data": {
      "text/plain": "{'select': '*',\n 'from': 'foo',\n 'where': {'and': [{'eq': ['id', 42]},\n   {'not': {'or': [{'eq': ['key', {'literal': 'bar'}]},\n      {'eq': ['key', {'literal': 'baz'}]}]}}]}}"
     },
     "execution_count": 20,
     "metadata": {},
     "output_type": "execute_result"
    }
   ],
   "source": [
    "mosp.parse(\"SELECT * FROM foo WHERE id = 42 AND NOT (key = 'bar' OR key = 'baz')\")"
   ]
  },
  {
   "cell_type": "markdown",
   "id": "111d073f-297f-4c06-bef4-150f7ca10807",
   "metadata": {},
   "source": [
    "## Aliases"
   ]
  },
  {
   "cell_type": "code",
   "execution_count": 21,
   "id": "794ae67b-89c6-4196-ba32-7b41594d17eb",
   "metadata": {},
   "outputs": [
    {
     "data": {
      "text/plain": "{'select': '*',\n 'from': [{'value': 'foo', 'name': 'f'}, {'value': 'bar', 'name': 'b'}],\n 'where': {'eq': ['f.id', 'b.fkey']}}"
     },
     "execution_count": 21,
     "metadata": {},
     "output_type": "execute_result"
    }
   ],
   "source": [
    "mosp.parse(\"SELECT * FROM foo f, bar b WHERE f.id = b.fkey\")"
   ]
  },
  {
   "cell_type": "markdown",
   "id": "1ffc72ab-9eb6-435b-8013-ca70263eb108",
   "metadata": {},
   "source": [
    "## Subqueries"
   ]
  },
  {
   "cell_type": "code",
   "execution_count": 22,
   "id": "58b9929c-eb55-4860-b79e-6d335d671c56",
   "metadata": {},
   "outputs": [
    {
     "data": {
      "text/plain": "{'select': '*',\n 'from': 'foo',\n 'where': {'in': ['id', {'select': {'value': 'fkey'}, 'from': 'bar'}]}}"
     },
     "execution_count": 22,
     "metadata": {},
     "output_type": "execute_result"
    }
   ],
   "source": [
    "mosp.parse(\"SELECT * FROM foo WHERE id IN (SELECT fkey FROM bar)\")"
   ]
  },
  {
   "cell_type": "markdown",
   "id": "e3abb862-c5be-4b68-8087-99fe445b7238",
   "metadata": {},
   "source": [
    "## Special predicates"
   ]
  },
  {
   "cell_type": "code",
   "execution_count": 23,
   "id": "535ff8f2-8fb9-4516-966e-3815e8de3885",
   "metadata": {},
   "outputs": [
    {
     "data": {
      "text/plain": "{'select': '*',\n 'from': ['foo', 'bar'],\n 'where': {'in': ['id', {'literal': ['bar', 'baz']}]}}"
     },
     "execution_count": 23,
     "metadata": {},
     "output_type": "execute_result"
    }
   ],
   "source": [
    "mosp.parse(\"SELECT * FROM foo, bar WHERE id IN ('bar', 'baz')\")"
   ]
  },
  {
   "cell_type": "code",
   "execution_count": 24,
   "id": "cc32b132-6d3f-456a-95ae-5398d3413985",
   "metadata": {},
   "outputs": [
    {
     "data": {
      "text/plain": "{'select': '*',\n 'from': 'foo',\n 'where': {'in': ['id',\n   [{'literal': 'bar'},\n    {'select': {'value': {'min': 'fkey'}}, 'from': 'bar'}]]}}"
     },
     "execution_count": 24,
     "metadata": {},
     "output_type": "execute_result"
    }
   ],
   "source": [
    "mosp.parse(\"SELECT * FROM foo WHERE id IN ('bar', (SELECT MIN(fkey) FROM bar))\")"
   ]
  },
  {
   "cell_type": "code",
   "execution_count": 25,
   "outputs": [
    {
     "data": {
      "text/plain": "{'select': '*',\n 'from': ['foo', 'bar'],\n 'where': {'in': ['id', [{'literal': 'bar'}, 'bar.id', {'literal': 'biz'}]]}}"
     },
     "execution_count": 25,
     "metadata": {},
     "output_type": "execute_result"
    }
   ],
   "source": [
    "mosp.parse(\"SELECT * FROM foo, bar WHERE id IN ('bar', bar.id, 'biz')\")"
   ],
   "metadata": {
    "collapsed": false
   }
  },
  {
   "cell_type": "code",
   "execution_count": 26,
   "outputs": [
    {
     "data": {
      "text/plain": "{'select': '*',\n 'from': 'foo',\n 'where': {'in': ['id', {'select': {'value': 'id'}, 'from': 'bar'}]}}"
     },
     "execution_count": 26,
     "metadata": {},
     "output_type": "execute_result"
    }
   ],
   "source": [
    "mosp.parse(\"SELECT * FROM foo WHERE id IN (SELECT id FROM bar)\")"
   ],
   "metadata": {
    "collapsed": false
   }
  },
  {
   "cell_type": "code",
   "execution_count": 27,
   "id": "d39f7fad-0d86-4025-99f8-f853b15c87c8",
   "metadata": {},
   "outputs": [
    {
     "data": {
      "text/plain": "{'select': '*', 'from': 'foo', 'where': {'between': ['id', 24, 42]}}"
     },
     "execution_count": 27,
     "metadata": {},
     "output_type": "execute_result"
    }
   ],
   "source": [
    "mosp.parse(\"SELECT * FROM foo WHERE id BETWEEN 24 AND 42\")"
   ]
  },
  {
   "cell_type": "code",
   "execution_count": 28,
   "id": "9acc4974-26f7-4e0d-9a3b-64687e0f037c",
   "metadata": {},
   "outputs": [
    {
     "data": {
      "text/plain": "{'select': '*', 'from': 'foo', 'where': {'exists': 'id'}}"
     },
     "execution_count": 28,
     "metadata": {},
     "output_type": "execute_result"
    }
   ],
   "source": [
    "mosp.parse(\"SELECT * FROM foo WHERE id IS NOT NULL\")"
   ]
  },
  {
   "cell_type": "code",
   "execution_count": 29,
   "id": "9dfc2616-25b0-4a07-bbb0-cf2f3e9d2fa1",
   "metadata": {},
   "outputs": [
    {
     "data": {
      "text/plain": "{'select': '*', 'from': 'foo', 'where': {'missing': 'id'}}"
     },
     "execution_count": 29,
     "metadata": {},
     "output_type": "execute_result"
    }
   ],
   "source": [
    "mosp.parse(\"SELECT * FROM foo WHERE id IS NULL\")"
   ]
  },
  {
   "cell_type": "markdown",
   "id": "511b815b-7315-43a8-825b-b42d09ba222b",
   "metadata": {},
   "source": [
    "## Advanced value manipulations"
   ]
  },
  {
   "cell_type": "code",
   "execution_count": 30,
   "id": "576df68b-1476-4481-99ae-f0db10fb591a",
   "metadata": {},
   "outputs": [
    {
     "data": {
      "text/plain": "{'select': '*', 'from': 'foo', 'where': {'eq': ['id', {'current_date': {}}]}}"
     },
     "execution_count": 30,
     "metadata": {},
     "output_type": "execute_result"
    }
   ],
   "source": [
    "mosp.parse(\"SELECT * FROM foo WHERE id = CURRENT_DATE()\")"
   ]
  },
  {
   "cell_type": "code",
   "execution_count": 31,
   "id": "25a4a4ee-104c-4bd1-be31-8aeb83c4330d",
   "metadata": {},
   "outputs": [
    {
     "data": {
      "text/plain": "{'select': '*',\n 'from': 'foo',\n 'where': {'eq': [{'add': ['id',\n     {'cast': [{'literal': '5 days'}, {'interval': {}}]}]},\n   42]}}"
     },
     "execution_count": 31,
     "metadata": {},
     "output_type": "execute_result"
    }
   ],
   "source": [
    "mosp.parse(\"SELECT * FROM foo WHERE id + '5 days'::interval = 42\")"
   ]
  },
  {
   "cell_type": "code",
   "execution_count": 32,
   "id": "72e912e1-2b4f-4469-8d21-b92c4ecab85d",
   "metadata": {},
   "outputs": [
    {
     "data": {
      "text/plain": "{'select': {'value': {'cast': ['id', {'interval': {}}]}}, 'from': 'foo'}"
     },
     "execution_count": 32,
     "metadata": {},
     "output_type": "execute_result"
    }
   ],
   "source": [
    "mosp.parse(\"SELECT id::interval FROM foo\")"
   ]
  },
  {
   "cell_type": "code",
   "execution_count": 33,
   "outputs": [
    {
     "data": {
      "text/plain": "{'select': {'value': {'case': [{'then': {'literal': 'a'},\n     'when': {'eq': ['R.a', 42]}},\n    {'literal': 'b'}]}},\n 'from': 'R'}"
     },
     "execution_count": 33,
     "metadata": {},
     "output_type": "execute_result"
    }
   ],
   "source": [
    "mosp.parse(\"SELECT CASE WHEN R.a = 42 THEN 'a' ELSE 'b' END FROM R\")"
   ],
   "metadata": {
    "collapsed": false
   }
  },
  {
   "cell_type": "code",
   "execution_count": 34,
   "outputs": [
    {
     "data": {
      "text/plain": "{'select': {'value': {'concat': [{'literal': 'prefix'}, 'R.a']}}, 'from': 'R'}"
     },
     "execution_count": 34,
     "metadata": {},
     "output_type": "execute_result"
    }
   ],
   "source": [
    "mosp.parse(\"SELECT 'prefix' || R.a FROM R\")"
   ],
   "metadata": {
    "collapsed": false
   }
  },
  {
   "cell_type": "markdown",
   "id": "69e9836c-2f0e-42bf-87c5-57c14bf21ac4",
   "metadata": {},
   "source": [
    "## SELECT ... FROM ... JOIN ..."
   ]
  },
  {
   "cell_type": "code",
   "execution_count": 35,
   "id": "badff4e9-3d1d-4a7f-bbd8-acbc2cf6f270",
   "metadata": {},
   "outputs": [
    {
     "data": {
      "text/plain": "{'select': '*', 'from': ['foo', {'join': 'bar'}]}"
     },
     "execution_count": 35,
     "metadata": {},
     "output_type": "execute_result"
    }
   ],
   "source": [
    "mosp.parse(\"SELECT * FROM foo JOIN bar\")"
   ]
  },
  {
   "cell_type": "code",
   "execution_count": 36,
   "id": "1bdef1e7-6e8d-47f2-820e-617198040ef1",
   "metadata": {},
   "outputs": [
    {
     "data": {
      "text/plain": "{'select': '*', 'from': ['foo', {'join': 'bar', 'on': {'eq': ['id', 'fkey']}}]}"
     },
     "execution_count": 36,
     "metadata": {},
     "output_type": "execute_result"
    }
   ],
   "source": [
    "mosp.parse(\"SELECT * FROM foo JOIN bar ON id = fkey\")"
   ]
  },
  {
   "cell_type": "code",
   "execution_count": 37,
   "id": "81ff1938-75be-4d4c-8501-3dfe4a9bf633",
   "metadata": {},
   "outputs": [
    {
     "data": {
      "text/plain": "{'select': '*',\n 'from': [{'value': 'foo', 'name': 'f'},\n  {'join': {'value': 'bar', 'name': 'b'}}]}"
     },
     "execution_count": 37,
     "metadata": {},
     "output_type": "execute_result"
    }
   ],
   "source": [
    "mosp.parse(\"SELECT * FROM foo f JOIN bar b\")"
   ]
  },
  {
   "cell_type": "code",
   "execution_count": 38,
   "id": "25b670ae-d5cf-4690-8747-ce5a9c901767",
   "metadata": {},
   "outputs": [
    {
     "data": {
      "text/plain": "{'select': '*',\n 'from': ['foo',\n  {'join': 'bar',\n   'on': {'and': [{'eq': ['id', 'fkey']},\n     {'eq': ['id', {'literal': 'baz'}]}]}}]}"
     },
     "execution_count": 38,
     "metadata": {},
     "output_type": "execute_result"
    }
   ],
   "source": [
    "mosp.parse(\"SELECT * FROM foo JOIN bar ON id = fkey AND id = 'baz'\")"
   ]
  },
  {
   "cell_type": "code",
   "execution_count": 39,
   "id": "85f79e01-a841-43c6-9fad-b07f0574dbdf",
   "metadata": {},
   "outputs": [
    {
     "data": {
      "text/plain": "{'select': '*',\n 'from': ['foo',\n  {'join': {'value': {'select': '*', 'from': 'bar'}, 'name': 'bar2'},\n   'on': {'eq': ['id', 'fkey']}}]}"
     },
     "execution_count": 39,
     "metadata": {},
     "output_type": "execute_result"
    }
   ],
   "source": [
    "mosp.parse(\"SELECT * FROM foo JOIN (SELECT * FROM bar) bar2 ON id = fkey\")"
   ]
  },
  {
   "cell_type": "code",
   "execution_count": 40,
   "id": "6f93e042-22d2-408b-8e7b-66bc5bf27d25",
   "metadata": {},
   "outputs": [
    {
     "data": {
      "text/plain": "{'select': '*',\n 'from': ['foo', {'cross join': 'bar', 'on': {'eq': ['id', 'fkey']}}]}"
     },
     "execution_count": 40,
     "metadata": {},
     "output_type": "execute_result"
    }
   ],
   "source": [
    "mosp.parse(\"SELECT * FROM foo CROSS JOIN bar ON id = fkey\")"
   ]
  },
  {
   "cell_type": "code",
   "execution_count": 41,
   "id": "c15e2546-9f41-4155-8e02-5b2c2db3aa72",
   "metadata": {},
   "outputs": [
    {
     "data": {
      "text/plain": "{'select': '*',\n 'from': ['foo', {'full join': 'bar', 'on': {'eq': ['id', 'fkey']}}]}"
     },
     "execution_count": 41,
     "metadata": {},
     "output_type": "execute_result"
    }
   ],
   "source": [
    "mosp.parse(\"SELECT * FROM foo FULL JOIN bar ON id = fkey\")"
   ]
  },
  {
   "cell_type": "code",
   "execution_count": 42,
   "id": "be12afbe-db3f-4671-bf3f-64d654624b3f",
   "metadata": {},
   "outputs": [
    {
     "data": {
      "text/plain": "{'select': '*',\n 'from': ['foo', {'left join': 'bar', 'on': {'eq': ['id', 'fkey']}}]}"
     },
     "execution_count": 42,
     "metadata": {},
     "output_type": "execute_result"
    }
   ],
   "source": [
    "mosp.parse(\"SELECT * FROM foo LEFT JOIN bar ON id = fkey\")"
   ]
  },
  {
   "cell_type": "code",
   "execution_count": 43,
   "id": "87581bdf-0115-4e29-895f-a40bc5e46159",
   "metadata": {},
   "outputs": [
    {
     "data": {
      "text/plain": "{'select': '*',\n 'from': ['foo', {'outer join': 'bar', 'on': {'eq': ['id', 'fkey']}}]}"
     },
     "execution_count": 43,
     "metadata": {},
     "output_type": "execute_result"
    }
   ],
   "source": [
    "mosp.parse(\"SELECT * FROM foo OUTER JOIN bar ON id = fkey\")"
   ]
  },
  {
   "cell_type": "code",
   "execution_count": 44,
   "id": "bdae3f59-de74-4ff0-ba6d-c65754e040d1",
   "metadata": {},
   "outputs": [
    {
     "data": {
      "text/plain": "{'select': '*',\n 'from': ['foo', {'right outer join': 'bar', 'on': {'eq': ['id', 'fkey']}}]}"
     },
     "execution_count": 44,
     "metadata": {},
     "output_type": "execute_result"
    }
   ],
   "source": [
    "mosp.parse(\"SELECT * FROM foo RIGHT OUTER JOIN bar ON id = fkey\")"
   ]
  },
  {
   "cell_type": "code",
   "execution_count": 45,
   "id": "9d6d2601-1c4f-4986-b8bd-4e1edc8acfee",
   "metadata": {},
   "outputs": [
    {
     "data": {
      "text/plain": "{'select': '*',\n 'from': ['foo', {'inner join': 'bar', 'on': {'eq': ['id', 'fkey']}}]}"
     },
     "execution_count": 45,
     "metadata": {},
     "output_type": "execute_result"
    }
   ],
   "source": [
    "mosp.parse(\"SELECT * FROM foo INNER JOIN bar ON id = fkey\")"
   ]
  },
  {
   "cell_type": "code",
   "execution_count": 46,
   "id": "269f695a-51c9-4d9e-9ef1-117380a18a28",
   "metadata": {},
   "outputs": [
    {
     "data": {
      "text/plain": "{'select': '*', 'from': [{'value': 'foo', 'name': 'NATURAL'}, {'join': 'bar'}]}"
     },
     "execution_count": 46,
     "metadata": {},
     "output_type": "execute_result"
    }
   ],
   "source": [
    "mosp.parse(\"SELECT * FROM foo NATURAL JOIN bar\")  # THIS IS THE WRONG RESULT!"
   ]
  },
  {
   "cell_type": "code",
   "execution_count": 47,
   "id": "1d73e04f-b1ef-499e-a255-2d90f05d9bfa",
   "metadata": {},
   "outputs": [
    {
     "data": {
      "text/plain": "{'select': '*', 'from': ['foo', {'join': 'bar', 'using': 'id'}]}"
     },
     "execution_count": 47,
     "metadata": {},
     "output_type": "execute_result"
    }
   ],
   "source": [
    "mosp.parse(\"SELECT * FROM foo JOIN bar USING id\")"
   ]
  },
  {
   "cell_type": "code",
   "execution_count": 48,
   "id": "37023cf7-0004-4237-91c5-28daa71b622a",
   "metadata": {},
   "outputs": [
    {
     "data": {
      "text/plain": "{'select': '*', 'from': ['foo', {'join': 'bar', 'using': ['id', 'fkey']}]}"
     },
     "execution_count": 48,
     "metadata": {},
     "output_type": "execute_result"
    }
   ],
   "source": [
    "mosp.parse(\"SELECT * FROM foo JOIN bar USING (id, fkey)\")"
   ]
  },
  {
   "cell_type": "markdown",
   "id": "ab6c2ac0-c246-4cce-ba54-db54d9ea8585",
   "metadata": {},
   "source": [
    "## EXPLAIN"
   ]
  },
  {
   "cell_type": "code",
   "execution_count": 49,
   "id": "7ab1c912-1f6a-4d60-a656-9c072f32d4d1",
   "metadata": {},
   "outputs": [
    {
     "data": {
      "text/plain": "{'explain': {'select': '*',\n  'from': ['foo', 'bar'],\n  'where': {'eq': ['id', 'fkey']}}}"
     },
     "execution_count": 49,
     "metadata": {},
     "output_type": "execute_result"
    }
   ],
   "source": [
    "mosp.parse(\"EXPLAIN SELECT * FROM foo, bar WHERE id = fkey\")"
   ]
  },
  {
   "cell_type": "code",
   "execution_count": 50,
   "id": "4aaf9820-4649-4ad9-82e4-7911580d35ad",
   "metadata": {},
   "outputs": [
    {
     "data": {
      "text/plain": "{'analyze': True,\n 'format': 'json',\n 'explain': {'select': '*',\n  'from': ['foo', 'bar'],\n  'where': {'eq': ['id', 'fkey']}}}"
     },
     "execution_count": 50,
     "metadata": {},
     "output_type": "execute_result"
    }
   ],
   "source": [
    "mosp.parse(\"EXPLAIN (ANALYZE, FORMAT JSON) SELECT * FROM foo, bar WHERE id = fkey\")"
   ]
  },
  {
   "cell_type": "markdown",
   "id": "44f62895-8400-4c32-8066-1ab868493b3d",
   "metadata": {},
   "source": [
    "## Mathematics"
   ]
  },
  {
   "cell_type": "code",
   "execution_count": 51,
   "id": "19cbfff4-3a52-4089-afc7-20a6f06b3d70",
   "metadata": {},
   "outputs": [
    {
     "data": {
      "text/plain": "{'select': {'value': {'add': ['id', 5]}}, 'from': 'foo'}"
     },
     "execution_count": 51,
     "metadata": {},
     "output_type": "execute_result"
    }
   ],
   "source": [
    "mosp.parse(\"SELECT id + 5 FROM foo\")"
   ]
  },
  {
   "cell_type": "code",
   "execution_count": 52,
   "id": "8d14a2a2-0c34-418a-894d-67b77c6617ff",
   "metadata": {},
   "outputs": [
    {
     "data": {
      "text/plain": "{'select': {'value': {'sub': ['id', 5]}}, 'from': 'foo'}"
     },
     "execution_count": 52,
     "metadata": {},
     "output_type": "execute_result"
    }
   ],
   "source": [
    "mosp.parse(\"SELECT id - 5 FROM foo\")"
   ]
  },
  {
   "cell_type": "code",
   "execution_count": 53,
   "id": "c20a4413-4c9c-4191-90ee-ded74b0648cb",
   "metadata": {},
   "outputs": [
    {
     "data": {
      "text/plain": "{'select': {'value': {'mul': ['id', 2]}}, 'from': 'foo'}"
     },
     "execution_count": 53,
     "metadata": {},
     "output_type": "execute_result"
    }
   ],
   "source": [
    "mosp.parse(\"SELECT id * 2 FROM foo\")"
   ]
  },
  {
   "cell_type": "code",
   "execution_count": 54,
   "id": "d2138ed1-d15a-41db-a2bd-82915380c086",
   "metadata": {},
   "outputs": [
    {
     "data": {
      "text/plain": "{'select': {'value': {'div': ['id', 1000]}}, 'from': 'foo'}"
     },
     "execution_count": 54,
     "metadata": {},
     "output_type": "execute_result"
    }
   ],
   "source": [
    "mosp.parse(\"SELECT id / 1000 FROM foo\")"
   ]
  },
  {
   "cell_type": "code",
   "execution_count": 55,
   "id": "ee5f9d75-c85f-4674-be24-9c5337cc921c",
   "metadata": {},
   "outputs": [
    {
     "data": {
      "text/plain": "{'select': {'value': {'mod': ['id', 2]}}, 'from': 'foo'}"
     },
     "execution_count": 55,
     "metadata": {},
     "output_type": "execute_result"
    }
   ],
   "source": [
    "mosp.parse(\"SELECT id % 2 FROM foo\")"
   ]
  },
  {
   "cell_type": "code",
   "execution_count": 56,
   "id": "14f9ac96-2ef3-4bbb-8452-2367d0cbff28",
   "metadata": {},
   "outputs": [
    {
     "data": {
      "text/plain": "{'select': {'value': {'neg': 'id'}}, 'from': 'foo'}"
     },
     "execution_count": 56,
     "metadata": {},
     "output_type": "execute_result"
    }
   ],
   "source": [
    "mosp.parse(\"SELECT -id FROM foo\")"
   ]
  },
  {
   "cell_type": "markdown",
   "id": "eff3dd14-aab4-4e5d-ba4c-252c57ae55ee",
   "metadata": {},
   "source": [
    "## Aggregate Functions"
   ]
  },
  {
   "cell_type": "code",
   "execution_count": 57,
   "id": "09a80030-df70-4083-933b-f5bee63a1e11",
   "metadata": {},
   "outputs": [
    {
     "data": {
      "text/plain": "{'select': {'value': {'count': '*'}}, 'from': 'foo'}"
     },
     "execution_count": 57,
     "metadata": {},
     "output_type": "execute_result"
    }
   ],
   "source": [
    "mosp.parse(\"SELECT COUNT(*) FROM foo\")"
   ]
  },
  {
   "cell_type": "code",
   "execution_count": 58,
   "id": "119d9e44-f0a0-4f96-adbb-bd2fe8189c49",
   "metadata": {},
   "outputs": [
    {
     "data": {
      "text/plain": "{'select': {'value': {'count': 'id'}}, 'from': 'foo'}"
     },
     "execution_count": 58,
     "metadata": {},
     "output_type": "execute_result"
    }
   ],
   "source": [
    "mosp.parse(\"SELECT COUNT(id) FROM foo\")"
   ]
  },
  {
   "cell_type": "code",
   "execution_count": 59,
   "id": "97dba737-0a4f-4797-805a-deb6d166a940",
   "metadata": {},
   "outputs": [
    {
     "data": {
      "text/plain": "{'select': {'value': {'avg': 'id'}}, 'from': 'foo'}"
     },
     "execution_count": 59,
     "metadata": {},
     "output_type": "execute_result"
    }
   ],
   "source": [
    "mosp.parse(\"SELECT AVG(id) FROM foo\")"
   ]
  },
  {
   "cell_type": "code",
   "execution_count": 60,
   "id": "4c605089-8f66-48b2-ba51-fe63d3c43032",
   "metadata": {},
   "outputs": [
    {
     "data": {
      "text/plain": "{'select': {'value': {'avg': {'literal': 'bar'}}}, 'from': 'foo'}"
     },
     "execution_count": 60,
     "metadata": {},
     "output_type": "execute_result"
    }
   ],
   "source": [
    "mosp.parse(\"SELECT AVG('bar') FROM foo\")"
   ]
  },
  {
   "cell_type": "code",
   "execution_count": 61,
   "id": "675a9d03-0937-43f6-b3b1-0e691e56b767",
   "metadata": {},
   "outputs": [
    {
     "data": {
      "text/plain": "{'select': {'value': {'min': 'id'}}, 'from': 'foo'}"
     },
     "execution_count": 61,
     "metadata": {},
     "output_type": "execute_result"
    }
   ],
   "source": [
    "mosp.parse(\"SELECT MIN(id) FROM foo\")"
   ]
  },
  {
   "cell_type": "code",
   "execution_count": 62,
   "id": "c9498bf8-c9d4-4676-9d88-5a4a8beec782",
   "metadata": {},
   "outputs": [
    {
     "data": {
      "text/plain": "{'select': {'value': {'max': 'id'}}, 'from': 'foo'}"
     },
     "execution_count": 62,
     "metadata": {},
     "output_type": "execute_result"
    }
   ],
   "source": [
    "mosp.parse(\"SELECT MAX(id) FROM foo\")"
   ]
  },
  {
   "cell_type": "code",
   "execution_count": 63,
   "id": "6f944cf0-92c2-4bed-9ebf-402bcb1e4b15",
   "metadata": {},
   "outputs": [
    {
     "data": {
      "text/plain": "{'select': {'value': {'sum': 'id'}}, 'from': 'foo'}"
     },
     "execution_count": 63,
     "metadata": {},
     "output_type": "execute_result"
    }
   ],
   "source": [
    "mosp.parse(\"SELECT SUM(id) FROM foo\")"
   ]
  },
  {
   "cell_type": "markdown",
   "id": "ce4bdc9e-f21f-4ec9-a8c0-563e4c271fc2",
   "metadata": {},
   "source": [
    "## Function calls"
   ]
  },
  {
   "cell_type": "code",
   "execution_count": 64,
   "id": "f0911f26-bacc-40aa-9c7c-2ad922bef718",
   "metadata": {},
   "outputs": [
    {
     "data": {
      "text/plain": "{'select': {'value': {'current_date': {}}},\n 'from': 'foo',\n 'where': {'eq': [{'timestamp': {}}, 'id']}}"
     },
     "execution_count": 64,
     "metadata": {},
     "output_type": "execute_result"
    }
   ],
   "source": [
    "mosp.parse(\"SELECT CURRENT_DATE() FROM foo WHERE TIMESTAMP() = id\")"
   ]
  },
  {
   "cell_type": "code",
   "execution_count": 65,
   "id": "514e5c0a-f820-4bb9-85bc-5b38a7d6c70e",
   "metadata": {},
   "outputs": [
    {
     "data": {
      "text/plain": "{'select': {'value': {'soundex': {'upper': {'literal': 'id'}}}}}"
     },
     "execution_count": 65,
     "metadata": {},
     "output_type": "execute_result"
    }
   ],
   "source": [
    "mosp.parse(\"SELECT SOUNDEX(UPPER('id'))\")"
   ]
  },
  {
   "cell_type": "code",
   "execution_count": 66,
   "id": "8a754ca7-95fb-48fe-9465-6d4addae7c74",
   "metadata": {},
   "outputs": [
    {
     "data": {
      "text/plain": "{'select': {'value': {'repeat': [{'literal': 'id'}, 5]}}}"
     },
     "execution_count": 66,
     "metadata": {},
     "output_type": "execute_result"
    }
   ],
   "source": [
    "mosp.parse(\"SELECT REPEAT('id', 5)\")"
   ]
  },
  {
   "cell_type": "code",
   "execution_count": 67,
   "id": "d553299e-9a6d-4dc7-8e19-5e91bf87706c",
   "metadata": {},
   "outputs": [
    {
     "data": {
      "text/plain": "{'select': {'value': {'time': 'id'}}, 'from': 'foo'}"
     },
     "execution_count": 67,
     "metadata": {},
     "output_type": "execute_result"
    }
   ],
   "source": [
    "mosp.parse(\"SELECT TIME(id) FROM foo\")"
   ]
  },
  {
   "cell_type": "code",
   "execution_count": 68,
   "id": "0ff5614c-318c-418d-b7be-5bd697281036",
   "metadata": {},
   "outputs": [
    {
     "data": {
      "text/plain": "{'select': {'value': {'time': {'or': ['id', 'key', 'fkey']}}}, 'from': 'foo'}"
     },
     "execution_count": 68,
     "metadata": {},
     "output_type": "execute_result"
    }
   ],
   "source": [
    "mosp.parse(\"SELECT TIME(id OR key OR fkey) FROM foo\")"
   ]
  },
  {
   "cell_type": "markdown",
   "id": "9a7ec164-14a7-4985-95af-56d6c2fea626",
   "metadata": {},
   "source": [
    "## GROUP BY, ORDER BY, HAVING, LIMIT"
   ]
  },
  {
   "cell_type": "code",
   "execution_count": 69,
   "id": "923d1d58-0bf6-4f97-a8c3-30645b5309f8",
   "metadata": {},
   "outputs": [
    {
     "data": {
      "text/plain": "{'select': '*', 'from': 'foo', 'groupby': {'value': 'id'}}"
     },
     "execution_count": 69,
     "metadata": {},
     "output_type": "execute_result"
    }
   ],
   "source": [
    "mosp.parse(\"SELECT * FROM foo GROUP BY id\")"
   ]
  },
  {
   "cell_type": "code",
   "execution_count": 70,
   "outputs": [
    {
     "data": {
      "text/plain": "{'select': '*', 'from': 'foo', 'groupby': [{'value': 'id'}, {'value': 'key'}]}"
     },
     "execution_count": 70,
     "metadata": {},
     "output_type": "execute_result"
    }
   ],
   "source": [
    "mosp.parse(\"SELECT * FROM foo GROUP BY id, key\")"
   ],
   "metadata": {
    "collapsed": false
   }
  },
  {
   "cell_type": "code",
   "execution_count": 71,
   "outputs": [
    {
     "data": {
      "text/plain": "{'select': '*', 'from': 'foo', 'groupby': {'value': 'ALL', 'name': 'id'}}"
     },
     "execution_count": 71,
     "metadata": {},
     "output_type": "execute_result"
    }
   ],
   "source": [
    "mosp.parse(\"SELECT * FROM foo GROUP BY ALL id\")"
   ],
   "metadata": {
    "collapsed": false
   }
  },
  {
   "cell_type": "code",
   "execution_count": 72,
   "outputs": [
    {
     "data": {
      "text/plain": "{'select': '*', 'from': 'foo', 'groupby': {'value': {'distinct': 'id'}}}"
     },
     "execution_count": 72,
     "metadata": {},
     "output_type": "execute_result"
    }
   ],
   "source": [
    "mosp.parse(\"SELECT * FROM foo GROUP BY DISTINCT id\")"
   ],
   "metadata": {
    "collapsed": false
   }
  },
  {
   "cell_type": "code",
   "execution_count": 73,
   "outputs": [
    {
     "data": {
      "text/plain": "{'select': '*',\n 'from': 'foo',\n 'groupby': {'value': {'distinct': [{'value': 'id'}, {'value': 'key'}]}}}"
     },
     "execution_count": 73,
     "metadata": {},
     "output_type": "execute_result"
    }
   ],
   "source": [
    "mosp.parse(\"SELECT * FROM foo GROUP BY DISTINCT id, key\")"
   ],
   "metadata": {
    "collapsed": false
   }
  },
  {
   "cell_type": "code",
   "execution_count": 74,
   "id": "869c29d0-2642-4124-9d42-7b96306d9de8",
   "metadata": {},
   "outputs": [
    {
     "data": {
      "text/plain": "{'select': '*',\n 'from': 'foo',\n 'groupby': {'value': 'id'},\n 'having': {'eq': [{'sum': 'id'}, 42]}}"
     },
     "execution_count": 74,
     "metadata": {},
     "output_type": "execute_result"
    }
   ],
   "source": [
    "mosp.parse(\"SELECT * FROM foo GROUP BY id HAVING SUM(id) = 42\")"
   ]
  },
  {
   "cell_type": "code",
   "execution_count": 75,
   "outputs": [
    {
     "data": {
      "text/plain": "{'select': '*',\n 'from': 'foo',\n 'groupby': {'value': 'id'},\n 'having': {'and': [{'eq': [{'sum': 'id'}, 42]}, {'eq': ['id', 1]}]}}"
     },
     "execution_count": 75,
     "metadata": {},
     "output_type": "execute_result"
    }
   ],
   "source": [
    "mosp.parse(\"SELECT * FROM foo GROUP BY id HAVING SUM(id) = 42 AND id = 1\")"
   ],
   "metadata": {
    "collapsed": false
   }
  },
  {
   "cell_type": "code",
   "execution_count": 76,
   "id": "6100c12b-a80b-49b8-a194-1b239cb8c90f",
   "metadata": {},
   "outputs": [
    {
     "data": {
      "text/plain": "{'select': '*', 'from': 'foo', 'orderby': {'value': 'id'}}"
     },
     "execution_count": 76,
     "metadata": {},
     "output_type": "execute_result"
    }
   ],
   "source": [
    "mosp.parse(\"SELECT * FROM foo ORDER BY id\")"
   ]
  },
  {
   "cell_type": "code",
   "execution_count": 77,
   "id": "c225f01e-c273-43cd-a276-7455b3bf6453",
   "metadata": {},
   "outputs": [
    {
     "data": {
      "text/plain": "{'select': '*', 'from': 'foo', 'orderby': {'value': 'id', 'sort': 'desc'}}"
     },
     "execution_count": 77,
     "metadata": {},
     "output_type": "execute_result"
    }
   ],
   "source": [
    "mosp.parse(\"SELECT * FROM foo ORDER BY id DESC\")"
   ]
  },
  {
   "cell_type": "code",
   "execution_count": 78,
   "outputs": [
    {
     "data": {
      "text/plain": "{'select': '*', 'from': 'foo', 'orderby': [{'value': 'id'}, {'value': 'key'}]}"
     },
     "execution_count": 78,
     "metadata": {},
     "output_type": "execute_result"
    }
   ],
   "source": [
    "mosp.parse(\"SELECT * FROM foo ORDER BY id, key\")"
   ],
   "metadata": {
    "collapsed": false
   }
  },
  {
   "cell_type": "code",
   "execution_count": 79,
   "outputs": [
    {
     "data": {
      "text/plain": "{'select': '*',\n 'from': 'foo',\n 'orderby': [{'value': 'id', 'sort': 'desc'}, {'value': 'key', 'sort': 'asc'}]}"
     },
     "execution_count": 79,
     "metadata": {},
     "output_type": "execute_result"
    }
   ],
   "source": [
    "mosp.parse(\"SELECT * FROM foo ORDER BY id DESC, key ASC\")"
   ],
   "metadata": {
    "collapsed": false
   }
  },
  {
   "cell_type": "code",
   "execution_count": 80,
   "id": "feb8e42e-838b-4eca-b271-16d0e068e191",
   "metadata": {},
   "outputs": [
    {
     "data": {
      "text/plain": "{'select': '*', 'from': 'foo', 'limit': 10, 'offset': 20}"
     },
     "execution_count": 80,
     "metadata": {},
     "output_type": "execute_result"
    }
   ],
   "source": [
    "mosp.parse(\"SELECT * FROM foo LIMIT 10 OFFSET 20\")\n"
   ]
  },
  {
   "cell_type": "markdown",
   "source": [
    "## Common Table Expressions\n"
   ],
   "metadata": {
    "collapsed": false
   }
  },
  {
   "cell_type": "code",
   "execution_count": 81,
   "outputs": [
    {
     "data": {
      "text/plain": "{'select': [{'value': 'account.display_name'},\n  {'value': 'top100_posters.n_answers'}],\n 'from': ['account', 'so_user', 'site', 'top100_posters'],\n 'where': {'and': [{'eq': ['site.site_name', {'literal': 'stackoverflow'}]},\n   {'eq': ['account.id', 'so_user.account_id']},\n   {'eq': ['site.site_id', 'so_user.site_id']},\n   {'eq': ['so_user.id', 'top100_posters.owner_user_id']}]},\n 'with': {'name': 'top100_posters',\n  'value': {'select': [{'value': 'owner_user_id'},\n    {'value': {'count': '*'}, 'name': 'n_answers'}],\n   'from': ['answer', 'site'],\n   'where': {'and': [{'eq': ['site.site_name', {'literal': 'stackoverflow'}]},\n     {'eq': ['answer.site_id', 'site.site_id']}]},\n   'groupby': {'value': 'owner_user_id'},\n   'orderby': {'value': 'n_answers', 'sort': 'desc'},\n   'limit': 100}}}"
     },
     "execution_count": 81,
     "metadata": {},
     "output_type": "execute_result"
    }
   ],
   "source": [
    "mosp.parse(\"\"\"\n",
    "WITH top100_posters AS (\n",
    "\tSELECT owner_user_id, COUNT(*) AS n_answers\n",
    "\tFROM answer, site\n",
    "\tWHERE site.site_name = 'stackoverflow'\n",
    "\t\tAND answer.site_id = site.site_id\n",
    "\tGROUP BY owner_user_id\n",
    "\tORDER BY n_answers DESC\n",
    "\tLIMIT 100\n",
    ")\n",
    "SELECT account.display_name, top100_posters.n_answers\n",
    "FROM account, so_user, site, top100_posters\n",
    "WHERE site.site_name = 'stackoverflow'\n",
    "\tAND account.id = so_user.account_id\n",
    "\tAND site.site_id = so_user.site_id\n",
    "\tAND so_user.id = top100_posters.owner_user_id;\n",
    "\"\"\")\n"
   ],
   "metadata": {
    "collapsed": false
   }
  },
  {
   "cell_type": "markdown",
   "source": [
    "## Parallel parsing\n",
    "\n",
    "This does not work b/c MOSP maintains a global parser lock.\n"
   ],
   "metadata": {
    "collapsed": false
   }
  }
 ],
 "metadata": {
  "kernelspec": {
   "display_name": "Python 3 (ipykernel)",
   "language": "python",
   "name": "python3"
  },
  "language_info": {
   "codemirror_mode": {
    "name": "ipython",
    "version": 3
   },
   "file_extension": ".py",
   "mimetype": "text/x-python",
   "name": "python",
   "nbconvert_exporter": "python",
   "pygments_lexer": "ipython3",
   "version": "3.10.6"
  }
 },
 "nbformat": 4,
 "nbformat_minor": 5
}
