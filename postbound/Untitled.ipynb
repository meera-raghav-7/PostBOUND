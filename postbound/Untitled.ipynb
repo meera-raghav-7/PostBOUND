{
 "cells": [
  {
   "cell_type": "code",
   "execution_count": 3,
   "id": "97d94a02",
   "metadata": {},
   "outputs": [
    {
     "ename": "NameError",
     "evalue": "name 'aa' is not defined",
     "output_type": "error",
     "traceback": [
      "\u001b[1;31m---------------------------------------------------------------------------\u001b[0m",
      "\u001b[1;31mNameError\u001b[0m                                 Traceback (most recent call last)",
      "Cell \u001b[1;32mIn[3], line 1\u001b[0m\n\u001b[1;32m----> 1\u001b[0m \u001b[43maa\u001b[49m\u001b[38;5;241m.\u001b[39mpy\n",
      "\u001b[1;31mNameError\u001b[0m: name 'aa' is not defined"
     ]
    }
   ],
   "source": [
    "aa.py"
   ]
  },
  {
   "cell_type": "code",
   "execution_count": 2,
   "id": "7fd7b0f9",
   "metadata": {},
   "outputs": [
    {
     "name": "stdout",
     "output_type": "stream",
     "text": [
      "[WinError 2] The system cannot find the file specified: 'dummy'\n",
      "C:\\Users\\meera\\dummy\\new\\PostBOUND\\postbound\n"
     ]
    }
   ],
   "source": [
    "cd dummy\n"
   ]
  },
  {
   "cell_type": "code",
   "execution_count": null,
   "id": "21eb4444",
   "metadata": {},
   "outputs": [],
   "source": []
  }
 ],
 "metadata": {
  "kernelspec": {
   "display_name": "Python 3 (ipykernel)",
   "language": "python",
   "name": "python3"
  },
  "language_info": {
   "codemirror_mode": {
    "name": "ipython",
    "version": 3
   },
   "file_extension": ".py",
   "mimetype": "text/x-python",
   "name": "python",
   "nbconvert_exporter": "python",
   "pygments_lexer": "ipython3",
   "version": "3.11.1"
  }
 },
 "nbformat": 4,
 "nbformat_minor": 5
}
