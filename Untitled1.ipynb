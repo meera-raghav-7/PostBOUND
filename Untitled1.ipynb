{
 "cells": [
  {
   "cell_type": "code",
   "execution_count": 2,
   "id": "2f10d185",
   "metadata": {},
   "outputs": [
    {
     "name": "stdout",
     "output_type": "stream",
     "text": [
      "C:\\Users\\meera\\dummy\\PostBOUND\\postbound\\postbound\\tests\n"
     ]
    }
   ],
   "source": [
    "%cd C:/Users/meera/dummy/PostBOUND/postbound/postbound/tests\n"
   ]
  },
  {
   "cell_type": "code",
   "execution_count": 3,
   "id": "3e62ad68",
   "metadata": {},
   "outputs": [
    {
     "name": "stderr",
     "output_type": "stream",
     "text": [
      "Traceback (most recent call last):\n",
      "  File \"C:\\Users\\meera\\dummy\\PostBOUND\\postbound\\postbound\\tests\\test_qal.py\", line 12, in <module>\n",
      "    from postbound.qal import parser\n",
      "  File \"C:\\Users\\meera\\dummy\\PostBOUND\\postbound\\postbound\\tests\\../..\\postbound\\qal\\parser.py\", line 9, in <module>\n",
      "    from postbound.qal import base, qal, clauses, expressions as expr, joins, predicates as preds\n",
      "  File \"C:\\Users\\meera\\dummy\\PostBOUND\\postbound\\postbound\\tests\\../..\\postbound\\qal\\qal.py\", line 14, in <module>\n",
      "    from postbound.qal import base, clauses, joins, expressions as expr, predicates as preds\n",
      "  File \"C:\\Users\\meera\\dummy\\PostBOUND\\postbound\\postbound\\tests\\../..\\postbound\\qal\\clauses.py\", line 11, in <module>\n",
      "    from postbound.qal import base, expressions as expr, joins, predicates as preds\n",
      "  File \"C:\\Users\\meera\\dummy\\PostBOUND\\postbound\\postbound\\tests\\../..\\postbound\\qal\\expressions.py\", line 52, in <module>\n",
      "    SqlOperator = typing.Type[MathematicalSqlOperators | LogicalSqlOperators | LogicalSqlCompoundOperators]\n",
      "TypeError: unsupported operand type(s) for |: 'EnumMeta' and 'EnumMeta'\n"
     ]
    }
   ],
   "source": [
    "!python test_qal.py\n"
   ]
  },
  {
   "cell_type": "code",
   "execution_count": 4,
   "id": "3571dbe4",
   "metadata": {},
   "outputs": [
    {
     "name": "stdout",
     "output_type": "stream",
     "text": [
      "Requirement already satisfied: notebook in c:\\users\\meera\\anaconda3\\lib\\site-packages (6.5.2)\n",
      "Collecting notebook\n",
      "  Downloading notebook-6.5.3-py3-none-any.whl (529 kB)\n",
      "     -------------------------------------- 529.7/529.7 kB 4.2 MB/s eta 0:00:00\n",
      "Requirement already satisfied: terminado>=0.8.3 in c:\\users\\meera\\anaconda3\\lib\\site-packages (from notebook) (0.17.1)\n",
      "Requirement already satisfied: prometheus-client in c:\\users\\meera\\anaconda3\\lib\\site-packages (from notebook) (0.14.1)\n",
      "Requirement already satisfied: tornado>=6.1 in c:\\users\\meera\\anaconda3\\lib\\site-packages (from notebook) (6.1)\n",
      "Requirement already satisfied: nbconvert>=5 in c:\\users\\meera\\anaconda3\\lib\\site-packages (from notebook) (6.5.4)\n",
      "Requirement already satisfied: traitlets>=4.2.1 in c:\\users\\meera\\anaconda3\\lib\\site-packages (from notebook) (5.7.1)\n",
      "Requirement already satisfied: jupyter-client>=5.3.4 in c:\\users\\meera\\anaconda3\\lib\\site-packages (from notebook) (7.3.4)\n",
      "Requirement already satisfied: ipython-genutils in c:\\users\\meera\\anaconda3\\lib\\site-packages (from notebook) (0.2.0)\n",
      "Requirement already satisfied: nbformat in c:\\users\\meera\\anaconda3\\lib\\site-packages (from notebook) (5.7.0)\n",
      "Requirement already satisfied: pyzmq>=17 in c:\\users\\meera\\anaconda3\\lib\\site-packages (from notebook) (23.2.0)\n",
      "Requirement already satisfied: nest-asyncio>=1.5 in c:\\users\\meera\\anaconda3\\lib\\site-packages (from notebook) (1.5.6)\n",
      "Requirement already satisfied: ipykernel in c:\\users\\meera\\anaconda3\\lib\\site-packages (from notebook) (6.19.2)\n",
      "Requirement already satisfied: Send2Trash>=1.8.0 in c:\\users\\meera\\anaconda3\\lib\\site-packages (from notebook) (1.8.0)\n",
      "Requirement already satisfied: nbclassic>=0.4.7 in c:\\users\\meera\\anaconda3\\lib\\site-packages (from notebook) (0.5.2)\n",
      "Requirement already satisfied: argon2-cffi in c:\\users\\meera\\anaconda3\\lib\\site-packages (from notebook) (21.3.0)\n",
      "Requirement already satisfied: jinja2 in c:\\users\\meera\\anaconda3\\lib\\site-packages (from notebook) (3.1.2)\n",
      "Requirement already satisfied: jupyter-core>=4.6.1 in c:\\users\\meera\\anaconda3\\lib\\site-packages (from notebook) (5.2.0)\n",
      "Requirement already satisfied: python-dateutil>=2.8.2 in c:\\users\\meera\\anaconda3\\lib\\site-packages (from jupyter-client>=5.3.4->notebook) (2.8.2)\n",
      "Requirement already satisfied: entrypoints in c:\\users\\meera\\anaconda3\\lib\\site-packages (from jupyter-client>=5.3.4->notebook) (0.4)\n",
      "Requirement already satisfied: pywin32>=1.0 in c:\\users\\meera\\anaconda3\\lib\\site-packages (from jupyter-core>=4.6.1->notebook) (305.1)\n",
      "Requirement already satisfied: platformdirs>=2.5 in c:\\users\\meera\\anaconda3\\lib\\site-packages (from jupyter-core>=4.6.1->notebook) (2.5.2)\n",
      "Requirement already satisfied: notebook-shim>=0.1.0 in c:\\users\\meera\\anaconda3\\lib\\site-packages (from nbclassic>=0.4.7->notebook) (0.2.2)\n",
      "Requirement already satisfied: jupyter-server>=1.8 in c:\\users\\meera\\anaconda3\\lib\\site-packages (from nbclassic>=0.4.7->notebook) (1.23.4)\n",
      "Requirement already satisfied: pygments>=2.4.1 in c:\\users\\meera\\anaconda3\\lib\\site-packages (from nbconvert>=5->notebook) (2.11.2)\n",
      "Requirement already satisfied: MarkupSafe>=2.0 in c:\\users\\meera\\anaconda3\\lib\\site-packages (from nbconvert>=5->notebook) (2.1.1)\n",
      "Requirement already satisfied: bleach in c:\\users\\meera\\anaconda3\\lib\\site-packages (from nbconvert>=5->notebook) (4.1.0)\n",
      "Requirement already satisfied: nbclient>=0.5.0 in c:\\users\\meera\\anaconda3\\lib\\site-packages (from nbconvert>=5->notebook) (0.5.13)\n",
      "Requirement already satisfied: packaging in c:\\users\\meera\\anaconda3\\lib\\site-packages (from nbconvert>=5->notebook) (22.0)\n",
      "Requirement already satisfied: pandocfilters>=1.4.1 in c:\\users\\meera\\anaconda3\\lib\\site-packages (from nbconvert>=5->notebook) (1.5.0)\n",
      "Requirement already satisfied: mistune<2,>=0.8.1 in c:\\users\\meera\\anaconda3\\lib\\site-packages (from nbconvert>=5->notebook) (0.8.4)\n",
      "Requirement already satisfied: defusedxml in c:\\users\\meera\\anaconda3\\lib\\site-packages (from nbconvert>=5->notebook) (0.7.1)\n",
      "Requirement already satisfied: jupyterlab-pygments in c:\\users\\meera\\anaconda3\\lib\\site-packages (from nbconvert>=5->notebook) (0.1.2)\n",
      "Requirement already satisfied: tinycss2 in c:\\users\\meera\\anaconda3\\lib\\site-packages (from nbconvert>=5->notebook) (1.2.1)\n",
      "Requirement already satisfied: lxml in c:\\users\\meera\\anaconda3\\lib\\site-packages (from nbconvert>=5->notebook) (4.9.1)\n",
      "Requirement already satisfied: beautifulsoup4 in c:\\users\\meera\\anaconda3\\lib\\site-packages (from nbconvert>=5->notebook) (4.11.1)\n",
      "Requirement already satisfied: jsonschema>=2.6 in c:\\users\\meera\\anaconda3\\lib\\site-packages (from nbformat->notebook) (4.17.3)\n",
      "Requirement already satisfied: fastjsonschema in c:\\users\\meera\\anaconda3\\lib\\site-packages (from nbformat->notebook) (2.16.2)\n",
      "Requirement already satisfied: pywinpty>=1.1.0 in c:\\users\\meera\\anaconda3\\lib\\site-packages (from terminado>=0.8.3->notebook) (2.0.10)\n",
      "Requirement already satisfied: argon2-cffi-bindings in c:\\users\\meera\\anaconda3\\lib\\site-packages (from argon2-cffi->notebook) (21.2.0)\n",
      "Requirement already satisfied: ipython>=7.23.1 in c:\\users\\meera\\anaconda3\\lib\\site-packages (from ipykernel->notebook) (8.10.0)\n",
      "Requirement already satisfied: debugpy>=1.0 in c:\\users\\meera\\anaconda3\\lib\\site-packages (from ipykernel->notebook) (1.5.1)\n",
      "Requirement already satisfied: comm>=0.1.1 in c:\\users\\meera\\anaconda3\\lib\\site-packages (from ipykernel->notebook) (0.1.2)\n",
      "Requirement already satisfied: psutil in c:\\users\\meera\\anaconda3\\lib\\site-packages (from ipykernel->notebook) (5.9.0)\n",
      "Requirement already satisfied: matplotlib-inline>=0.1 in c:\\users\\meera\\anaconda3\\lib\\site-packages (from ipykernel->notebook) (0.1.6)\n",
      "Requirement already satisfied: prompt-toolkit<3.1.0,>=3.0.30 in c:\\users\\meera\\anaconda3\\lib\\site-packages (from ipython>=7.23.1->ipykernel->notebook) (3.0.36)\n",
      "Requirement already satisfied: stack-data in c:\\users\\meera\\anaconda3\\lib\\site-packages (from ipython>=7.23.1->ipykernel->notebook) (0.2.0)\n",
      "Requirement already satisfied: colorama in c:\\users\\meera\\anaconda3\\lib\\site-packages (from ipython>=7.23.1->ipykernel->notebook) (0.4.6)\n",
      "Requirement already satisfied: jedi>=0.16 in c:\\users\\meera\\anaconda3\\lib\\site-packages (from ipython>=7.23.1->ipykernel->notebook) (0.18.1)\n",
      "Requirement already satisfied: pickleshare in c:\\users\\meera\\anaconda3\\lib\\site-packages (from ipython>=7.23.1->ipykernel->notebook) (0.7.5)\n",
      "Requirement already satisfied: decorator in c:\\users\\meera\\anaconda3\\lib\\site-packages (from ipython>=7.23.1->ipykernel->notebook) (5.1.1)\n",
      "Requirement already satisfied: backcall in c:\\users\\meera\\anaconda3\\lib\\site-packages (from ipython>=7.23.1->ipykernel->notebook) (0.2.0)\n",
      "Requirement already satisfied: pyrsistent!=0.17.0,!=0.17.1,!=0.17.2,>=0.14.0 in c:\\users\\meera\\anaconda3\\lib\\site-packages (from jsonschema>=2.6->nbformat->notebook) (0.18.0)\n",
      "Requirement already satisfied: attrs>=17.4.0 in c:\\users\\meera\\anaconda3\\lib\\site-packages (from jsonschema>=2.6->nbformat->notebook) (22.1.0)\n",
      "Requirement already satisfied: anyio<4,>=3.1.0 in c:\\users\\meera\\anaconda3\\lib\\site-packages (from jupyter-server>=1.8->nbclassic>=0.4.7->notebook) (3.5.0)\n",
      "Requirement already satisfied: websocket-client in c:\\users\\meera\\anaconda3\\lib\\site-packages (from jupyter-server>=1.8->nbclassic>=0.4.7->notebook) (0.58.0)\n",
      "Requirement already satisfied: six>=1.5 in c:\\users\\meera\\anaconda3\\lib\\site-packages (from python-dateutil>=2.8.2->jupyter-client>=5.3.4->notebook) (1.16.0)\n",
      "Requirement already satisfied: cffi>=1.0.1 in c:\\users\\meera\\anaconda3\\lib\\site-packages (from argon2-cffi-bindings->argon2-cffi->notebook) (1.15.1)\n",
      "Requirement already satisfied: soupsieve>1.2 in c:\\users\\meera\\anaconda3\\lib\\site-packages (from beautifulsoup4->nbconvert>=5->notebook) (2.3.2.post1)\n",
      "Requirement already satisfied: webencodings in c:\\users\\meera\\anaconda3\\lib\\site-packages (from bleach->nbconvert>=5->notebook) (0.5.1)\n",
      "Requirement already satisfied: idna>=2.8 in c:\\users\\meera\\anaconda3\\lib\\site-packages (from anyio<4,>=3.1.0->jupyter-server>=1.8->nbclassic>=0.4.7->notebook) (3.4)\n",
      "Requirement already satisfied: sniffio>=1.1 in c:\\users\\meera\\anaconda3\\lib\\site-packages (from anyio<4,>=3.1.0->jupyter-server>=1.8->nbclassic>=0.4.7->notebook) (1.2.0)\n",
      "Requirement already satisfied: pycparser in c:\\users\\meera\\anaconda3\\lib\\site-packages (from cffi>=1.0.1->argon2-cffi-bindings->argon2-cffi->notebook) (2.21)\n",
      "Requirement already satisfied: parso<0.9.0,>=0.8.0 in c:\\users\\meera\\anaconda3\\lib\\site-packages (from jedi>=0.16->ipython>=7.23.1->ipykernel->notebook) (0.8.3)\n",
      "Requirement already satisfied: wcwidth in c:\\users\\meera\\anaconda3\\lib\\site-packages (from prompt-toolkit<3.1.0,>=3.0.30->ipython>=7.23.1->ipykernel->notebook) (0.2.5)\n",
      "Requirement already satisfied: executing in c:\\users\\meera\\anaconda3\\lib\\site-packages (from stack-data->ipython>=7.23.1->ipykernel->notebook) (0.8.3)\n",
      "Requirement already satisfied: pure-eval in c:\\users\\meera\\anaconda3\\lib\\site-packages (from stack-data->ipython>=7.23.1->ipykernel->notebook) (0.2.2)\n",
      "Requirement already satisfied: asttokens in c:\\users\\meera\\anaconda3\\lib\\site-packages (from stack-data->ipython>=7.23.1->ipykernel->notebook) (2.0.5)\n",
      "Installing collected packages: notebook\n",
      "  Attempting uninstall: notebook\n",
      "    Found existing installation: notebook 6.5.2\n",
      "    Uninstalling notebook-6.5.2:\n",
      "      Successfully uninstalled notebook-6.5.2\n",
      "Successfully installed notebook-6.5.3\n",
      "Note: you may need to restart the kernel to use updated packages.\n"
     ]
    }
   ],
   "source": [
    "pip install notebook --upgrade"
   ]
  },
  {
   "cell_type": "code",
   "execution_count": 6,
   "id": "b43dc937",
   "metadata": {},
   "outputs": [
    {
     "data": {
      "text/plain": [
       "'3.9.16 (main, Mar  1 2023, 18:30:21) [MSC v.1916 64 bit (AMD64)]'"
      ]
     },
     "execution_count": 6,
     "metadata": {},
     "output_type": "execute_result"
    }
   ],
   "source": [
    "import sys\n",
    "sys.version"
   ]
  },
  {
   "cell_type": "code",
   "execution_count": null,
   "id": "325a0040",
   "metadata": {},
   "outputs": [],
   "source": []
  }
 ],
 "metadata": {
  "kernelspec": {
   "display_name": "Python 3 (ipykernel)",
   "language": "python",
   "name": "python3"
  },
  "language_info": {
   "codemirror_mode": {
    "name": "ipython",
    "version": 3
   },
   "file_extension": ".py",
   "mimetype": "text/x-python",
   "name": "python",
   "nbconvert_exporter": "python",
   "pygments_lexer": "ipython3",
   "version": "3.9.16"
  }
 },
 "nbformat": 4,
 "nbformat_minor": 5
}
