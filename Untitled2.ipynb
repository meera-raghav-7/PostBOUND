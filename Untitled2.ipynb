{
 "cells": [
  {
   "cell_type": "code",
   "execution_count": 1,
   "id": "915ae302",
   "metadata": {},
   "outputs": [
    {
     "name": "stdout",
     "output_type": "stream",
     "text": [
      "pip 23.0.1 from C:\\Users\\meera\\AppData\\Local\\Programs\\Python\\Python311\\Lib\\site-packages\\pip (python 3.11)\n",
      "\n",
      "Note: you may need to restart the kernel to use updated packages.\n"
     ]
    }
   ],
   "source": [
    "pip --version"
   ]
  },
  {
   "cell_type": "code",
   "execution_count": 2,
   "id": "c39b1feb",
   "metadata": {},
   "outputs": [
    {
     "name": "stdout",
     "output_type": "stream",
     "text": [
      "Python 3.11.1\n"
     ]
    }
   ],
   "source": [
    "!python --version\n"
   ]
  },
  {
   "cell_type": "code",
   "execution_count": 3,
   "id": "e90d8baf",
   "metadata": {},
   "outputs": [
    {
     "name": "stdout",
     "output_type": "stream",
     "text": [
      "[WinError 3] The system cannot find the path specified: 'PostBOUND/postbound/postbound/tests'\n",
      "C:\\Users\\meera\\dummy\\PostBOUND\n"
     ]
    }
   ],
   "source": [
    "%cd PostBOUND/postbound/postbound/tests\n"
   ]
  },
  {
   "cell_type": "code",
   "execution_count": 4,
   "id": "3ff9ed91",
   "metadata": {},
   "outputs": [
    {
     "name": "stdout",
     "output_type": "stream",
     "text": [
      "C:\\Users\\meera\\dummy\\PostBOUND\\postbound\\postbound\\tests\n"
     ]
    }
   ],
   "source": [
    "%cd C:/Users/meera/dummy/PostBOUND/postbound/postbound/tests\n"
   ]
  },
  {
   "cell_type": "code",
   "execution_count": 14,
   "id": "d46c48ee",
   "metadata": {},
   "outputs": [
    {
     "name": "stderr",
     "output_type": "stream",
     "text": [
      "Traceback (most recent call last):\n",
      "  File \"C:\\Users\\meera\\dummy\\PostBOUND\\postbound\\postbound\\tests\\test_qal.py\", line 12, in <module>\n",
      "    from postbound.qal import parser\n",
      "  File \"C:\\Users\\meera\\dummy\\PostBOUND\\postbound\\postbound\\tests\\../..\\postbound\\qal\\parser.py\", line 10, in <module>\n",
      "    from postbound.qal import transform\n",
      "  File \"C:\\Users\\meera\\dummy\\PostBOUND\\postbound\\postbound\\tests\\../..\\postbound\\qal\\transform.py\", line 9, in <module>\n",
      "    from postbound.db import db\n",
      "  File \"C:\\Users\\meera\\dummy\\PostBOUND\\postbound\\postbound\\tests\\../..\\postbound\\db\\db.py\", line 57, in <module>\n",
      "    class Connection():\n",
      "  File \"C:\\Users\\meera\\dummy\\PostBOUND\\postbound\\postbound\\tests\\../..\\postbound\\db\\db.py\", line 85, in Connection\n",
      "    cursor = Cursor(host='localhost', user='root', password='1234', database='imdbload')\n",
      "             ^^^^^^^^^^^^^^^^^^^^^^^^^^^^^^^^^^^^^^^^^^^^^^^^^^^^^^^^^^^^^^^^^^^^^^^^^^^\n",
      "TypeError: Cursor.__init__() got an unexpected keyword argument 'host'\n"
     ]
    }
   ],
   "source": [
    "!python test_qal.py\n"
   ]
  },
  {
   "cell_type": "code",
   "execution_count": 16,
   "id": "a70d9bd1",
   "metadata": {},
   "outputs": [],
   "source": [
    "!python test_qal.py\n"
   ]
  },
  {
   "cell_type": "code",
   "execution_count": null,
   "id": "dae5ca08",
   "metadata": {},
   "outputs": [],
   "source": []
  }
 ],
 "metadata": {
  "kernelspec": {
   "display_name": "Python 3 (ipykernel)",
   "language": "python",
   "name": "python3"
  },
  "language_info": {
   "codemirror_mode": {
    "name": "ipython",
    "version": 3
   },
   "file_extension": ".py",
   "mimetype": "text/x-python",
   "name": "python",
   "nbconvert_exporter": "python",
   "pygments_lexer": "ipython3",
   "version": "3.11.1"
  }
 },
 "nbformat": 4,
 "nbformat_minor": 5
}
